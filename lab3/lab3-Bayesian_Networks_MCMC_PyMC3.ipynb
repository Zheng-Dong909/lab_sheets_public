{
 "cells": [
  {
   "cell_type": "markdown",
   "metadata": {},
   "source": [
    "# Lab 3: Bayesian Networks, Markov Chain Monte Carlo (MCMC) and PyMC3\n",
    "\n",
    "In this lab we will focus on expressing probability distributions in the form of Bayesian Networks and using PyMC3 to (approximately) sample from these distributions and perform inference. \n",
    "\n",
    "The last set of exercises in this lab will require the use of the [`pymc3`](https://docs.pymc.io/) package so make sure to have this installed now (recommended) or before you get started on that section. If you are using conda then we recommend using the command `conda install -c anaconda pymc3`.\n",
    "\n",
    "First, we will import the required packages for the initial exercises:"
   ]
  },
  {
   "cell_type": "code",
   "execution_count": 1,
   "metadata": {},
   "outputs": [],
   "source": [
    "import numpy as np\n",
    "import matplotlib.pyplot as plt\n",
    "from scipy.stats import norm\n",
    "%matplotlib inline "
   ]
  },
  {
   "cell_type": "markdown",
   "metadata": {},
   "source": [
    "## 1) Ancestral Sampling\n",
    "\n",
    "We will first recap the concept of ancestral sampling from lectures. Familiarise yourself with the example of a simple Bayesian network shown below. \n",
    "\n",
    "(C=Cloudy, R=Rain, S=Sprinkler, W=Wet Grass and T/F refer to True/False)"
   ]
  },
  {
   "cell_type": "markdown",
   "metadata": {},
   "source": [
    "<img src=\"toy_graphical_model.png\" width=\"700\">"
   ]
  },
  {
   "cell_type": "markdown",
   "metadata": {},
   "source": [
    "This Bayesian network models the joint distribution over 4 variables P(**C**, **R**, **S**, **W**). To save time, the probability mass function for each of these variables are provided as Python functions below:"
   ]
  },
  {
   "cell_type": "code",
   "execution_count": 13,
   "metadata": {},
   "outputs": [],
   "source": [
    "def P_C():\n",
    "    return 0.5\n",
    "\n",
    "def P_R(C):\n",
    "    return 0.2 if C == False else 0.8\n",
    "\n",
    "def P_S(C):\n",
    "    return 0.5 if C == False else 0.1\n",
    "\n",
    "def P_W(R, S):\n",
    "    if R == False:\n",
    "        return 0.0 if S == False else 0.9\n",
    "    else:\n",
    "        return 0.9 if S == False else 0.99"
   ]
  },
  {
   "cell_type": "markdown",
   "metadata": {},
   "source": [
    "The concept of ancestral sampling is very simple and refers to a method of sampling from a distribution over multiple variables by first sampling from nodes in the graph that have no parents and then sampling from their child nodes conditioned on those sampled values. This process of sampling the child node variables conditioned on their parents is repeated until all nodes in the graph have a sampled value (remember that a valid graph must be acyclic so this process will always terminate with a finite number of nodes).\n",
    "\n",
    "### 1.1) Perform Ancestral Sampling\n",
    "\n",
    "Use the above functions to:\n",
    "1. Perform ancestral sampling to generate a number of samples (~100-1000 samples) from the joint distribution. (hint [np.random.rand](https://numpy.org/doc/stable/reference/random/generated/numpy.random.rand.html) or [np.random.choice](https://numpy.org/doc/stable/reference/random/generated/numpy.random.choice.html) are helpful to do this)\n",
    "2. Store the generated samples in a list of the form: [[$\\textbf{C}_1$, $\\textbf{R}_1$, $\\textbf{S}_1$, $\\textbf{W}_1$],[$\\textbf{C}_2$, $\\textbf{R}_2$, $\\textbf{S}_2$, $\\textbf{W}_2$], ...] where 1 and 2 refer to sample indices."
   ]
  },
  {
   "cell_type": "code",
   "execution_count": 19,
   "metadata": {},
   "outputs": [
    {
     "data": {
      "text/plain": [
       "array([[0.65012868, 0.97800558, 0.52531937, 0.55105009],\n",
       "       [0.03523987, 0.25379042, 0.74067735, 0.51345006],\n",
       "       [0.27934458, 0.99324589, 0.74118299, 0.05764286],\n",
       "       ...,\n",
       "       [0.40543618, 0.65758929, 0.33126521, 0.99224221],\n",
       "       [0.04021344, 0.22425197, 0.50440665, 0.9144684 ],\n",
       "       [0.18175322, 0.89661112, 0.29032394, 0.36412759]])"
      ]
     },
     "execution_count": 19,
     "metadata": {},
     "output_type": "execute_result"
    }
   ],
   "source": [
    "#write your code here\n",
    "m_100 = np.random.rand(100, 4)\n",
    "n_1000 = np.random.rand(1000, 4)\n",
    "m_100\n",
    "n_1000"
   ]
  },
  {
   "cell_type": "markdown",
   "metadata": {},
   "source": [
    "The ability to obtain a large number of samples from the joint distribution like this is very powerful because it allows for estimates of many different quantities relating to the distribution to be calculated. Use the list of samples to compute and print out estimates of the following: \n",
    "- Marginal distributions of each variable: P(**C**), P(**R**), P(**S**) and P(**W**).\n",
    "- Conditional distributions of each variable where **W**=T: P(**C** | **W**=T), P(**R** | **W**=T) and P(**S** | **W**=T) (hint discard samples where **W**=F).\n",
    "\n"
   ]
  },
  {
   "cell_type": "code",
   "execution_count": 26,
   "metadata": {},
   "outputs": [
    {
     "name": "stdout",
     "output_type": "stream",
     "text": [
      "[[1.70127426 2.1841749  1.09667602 1.91799547 1.21920666 1.68338512\n",
      "  1.54198339 2.36971824 1.92129091 2.44400347 1.8015441  2.15959752\n",
      "  2.22758081 2.24737792 2.77995274 2.46108109 1.98928965 1.47708961\n",
      "  2.45704984 2.86312793 2.07578819 1.85622822 2.27322245 2.03397902\n",
      "  1.32342073 2.76630386 1.31600818 2.39273981 1.51878898 2.04473151\n",
      "  1.45036443 1.65917788 2.28059259 1.5884009  2.42671509 1.11524057\n",
      "  2.10700623 2.57449496 1.0257408  2.07354233 2.7855335  1.98898477\n",
      "  0.61928931 1.37052673 2.41300818 2.11543419 1.3603185  1.80605847\n",
      "  2.28579627 2.71534306 2.0847275  1.86122216 1.78682563 1.5472068\n",
      "  2.21664298 1.58546887 3.01601521 1.36452484 1.39422267 0.77415692\n",
      "  2.13554401 2.02656264 2.75391632 2.811229   2.17164738 1.80390567\n",
      "  2.23270777 1.69539403 2.4290314  2.08195197 2.26009959 2.10484889\n",
      "  1.52380334 2.36361936 2.30397484 2.04542027 1.6780116  1.90337855\n",
      "  1.62377189 1.60262527 1.79504265 1.62112067 2.16381099 1.67065778\n",
      "  2.06497044 1.28802838 2.20401555 2.29176266 2.04253251 1.90440598\n",
      "  2.98651929 1.83440408 1.94275412 2.89612982 1.82271485 1.11090224\n",
      "  2.43545755 2.39219369 2.21431707 2.15330406]]\n",
      "[[2.70450372 1.54315769 2.07141633 2.42957006 2.09694121 1.96456163\n",
      "  1.38183567 2.23555619 1.88765809 1.22060812 2.2494701  2.77962917\n",
      "  1.79113048 2.41453381 2.8355732  3.05216251 1.59692893 2.56766161\n",
      "  2.42423932 0.72097006 2.22271347 2.73872111 2.14147128 2.29816312\n",
      "  2.84892129 1.57309669 1.94518013 2.12196787 1.67909045 1.30747774\n",
      "  2.72850392 3.04019614 2.5220204  1.0479682  2.29227182 1.78114327\n",
      "  1.88007979 1.91727953 2.89908395 2.15531113 1.17302784 2.20701425\n",
      "  1.74915958 1.79992121 1.43833751 1.35088312 2.35958224 2.47732712\n",
      "  2.38552523 1.89910123 1.83068125 1.79009935 1.31224249 2.07761089\n",
      "  2.51122566 1.40451849 1.9485271  1.72587661 2.26496155 1.74827795\n",
      "  3.21188981 2.18059679 2.23140169 2.28815271 2.07726161 1.60652542\n",
      "  3.22132044 2.15420895 1.86459396 2.01102301 1.3974329  2.30802578\n",
      "  2.57246264 0.63426244 2.79984882 2.33714143 1.97034398 0.75758427\n",
      "  1.94313461 1.93703149 0.80669261 2.35165035 1.86275806 1.82455498\n",
      "  1.82305526 2.03179446 0.74064007 2.10506937 1.21834486 1.78241465\n",
      "  2.60791687 1.93992614 1.96151774 2.40905137 2.1578002  2.84909332\n",
      "  1.20402592 3.36326139 1.31059701 1.82477678 1.18127446 2.00899131\n",
      "  2.95543982 3.5207375  2.19414566 1.51875367 2.04978466 2.32611178\n",
      "  1.55979026 2.3506317  2.61628138 2.58227111 2.01114417 2.08363554\n",
      "  1.83366724 2.45470893 1.3364401  1.67860381 2.35010256 2.46386529\n",
      "  0.58061344 2.34278376 2.48769879 1.79785469 2.04306155 1.71683535\n",
      "  1.99762279 2.1208648  1.95475962 1.11366668 2.39394857 0.90060368\n",
      "  2.30516729 1.23791812 2.8290187  1.60244011 1.63703781 1.4202226\n",
      "  2.77489849 2.19052943 3.31235097 1.51237758 2.87435068 0.80371716\n",
      "  2.07184308 2.01917819 1.92137884 2.34342869 0.9985878  2.38907626\n",
      "  2.45985223 1.34781192 2.27157447 1.1586478  2.2114811  2.5183748\n",
      "  1.75090351 2.90220222 2.12449846 1.70309429 1.79091474 1.34133964\n",
      "  0.67919238 1.95327985 2.008162   2.07954236 2.19770912 1.27181798\n",
      "  1.86024573 3.12889966 2.27834351 2.25998332 2.17223071 1.79975196\n",
      "  2.15610921 1.12731325 2.50527155 1.48748804 1.8744943  1.84605399\n",
      "  2.13171676 2.98273179 1.86217022 1.6490023  2.24308502 1.47456368\n",
      "  2.55903995 2.23357495 2.31915323 1.76019502 1.09144695 2.51668128\n",
      "  1.57591622 1.85563913 1.24285177 2.98299262 2.13105348 2.15415976\n",
      "  1.75497787 2.12380426 1.80094065 2.34784943 1.69920216 1.06522643\n",
      "  2.2314404  1.85336225 2.0289539  2.54282503 3.33360301 0.85970579\n",
      "  2.37756163 1.21590907 0.87068899 2.2114264  2.65748589 2.02048268\n",
      "  2.59222839 3.08730966 1.23143826 2.21840418 2.23475304 1.96774175\n",
      "  1.47514646 2.04249782 3.15020644 1.53807141 1.690403   2.00821129\n",
      "  2.84955941 2.43149511 1.82356456 1.83927653 2.00369391 2.46949635\n",
      "  2.26018681 2.61117011 1.22071923 2.46836665 2.55064185 1.52639717\n",
      "  3.33615112 1.47857959 1.44045953 2.58975617 2.70182314 1.56470575\n",
      "  2.22286307 2.23885289 2.62523372 2.70813378 2.77082689 2.88070501\n",
      "  2.00625031 2.57215413 2.31869032 0.94112249 2.15584324 2.53171832\n",
      "  2.17744968 2.4018014  1.94967761 2.29248803 2.54128081 1.91368601\n",
      "  2.79593239 2.67716967 1.9902671  1.38071061 2.90124784 1.56202347\n",
      "  3.2959483  2.37144198 1.4909131  1.83521779 1.89144994 1.62894665\n",
      "  1.66159359 2.14698394 2.06385195 2.73490343 0.9491523  3.4233851\n",
      "  2.68831683 1.65455108 1.89205804 1.85109429 2.54298442 2.18911246\n",
      "  1.38184481 1.43346985 2.83101529 2.30756555 1.19683932 2.79166835\n",
      "  2.81968036 2.92694107 2.45225898 2.90375183 2.21207995 1.64889795\n",
      "  2.158114   1.43428948 1.69806048 2.8667892  1.97580994 1.99105735\n",
      "  1.6632929  1.20932265 2.20336213 2.67905217 1.48968433 2.16100716\n",
      "  2.47030549 1.76459032 0.99208024 2.46801629 1.94555388 2.26923374\n",
      "  2.18020475 1.8568272  1.75359668 2.72470595 2.69048551 1.20118039\n",
      "  1.66599799 2.24511333 1.85741639 1.59357109 2.22917417 1.65306848\n",
      "  1.37756966 1.7611211  2.76356371 1.70440809 2.74946181 0.99757054\n",
      "  2.62640362 3.08435217 1.76997909 2.64801203 2.24256621 1.30466317\n",
      "  1.69627796 2.04460519 1.39428935 1.91133287 1.98414579 2.19144142\n",
      "  2.49206245 1.78008484 2.40037571 1.86203024 0.76488426 0.57694047\n",
      "  2.34923146 2.10617153 2.50391029 1.71802208 2.06550806 1.12688841\n",
      "  2.08288657 2.43767643 2.36720314 1.64771805 1.84595593 1.81066949\n",
      "  1.48012642 2.12723829 2.94690234 1.69833407 1.93841724 2.85249141\n",
      "  2.78669868 1.83902856 3.04657778 1.66715011 2.65216036 2.93963527\n",
      "  1.05509356 2.34735469 1.94734122 2.66318956 2.08502412 1.08993785\n",
      "  0.90468196 2.05936148 2.08710724 2.78981314 1.3746612  2.79633241\n",
      "  1.11837334 1.50419673 1.95859818 2.39139872 2.79198291 2.24242854\n",
      "  2.81847984 2.2532932  1.73656382 1.18328878 1.39277758 1.64859467\n",
      "  1.83603066 1.26860208 1.3578099  1.62831077 1.28290081 2.18733418\n",
      "  1.64849766 1.00690695 2.95155488 1.67577965 1.69630464 2.04514031\n",
      "  2.37157784 1.49101797 1.39555514 2.42673519 2.52574081 1.00942623\n",
      "  1.66887737 2.57945316 1.53175988 1.93710376 2.13200566 1.66215985\n",
      "  1.97236196 2.48843879 1.66353825 1.21615174 2.41864647 2.91997862\n",
      "  0.56049102 2.21669206 0.67426468 2.75942841 2.15169277 1.50467075\n",
      "  1.18551516 1.94937642 2.35789048 2.11407484 2.49771712 2.22437096\n",
      "  2.32264248 2.18236094 2.700531   1.80748287 2.15796369 2.16662341\n",
      "  1.39066204 1.61745739 1.60955965 1.99809163 1.51794548 2.33144072\n",
      "  2.38328313 2.03225054 2.11475091 2.71270454 2.93400896 2.65233819\n",
      "  2.49403558 1.63404491 3.00721006 1.73929164 1.27338419 1.20983836\n",
      "  1.17186119 2.3162428  1.6300186  2.83887042 1.77802035 1.49026692\n",
      "  1.45962385 1.84606838 1.69077408 1.2077699  2.59400481 1.15822392\n",
      "  2.02768187 1.81990116 2.1447705  2.29239614 2.011988   1.4703582\n",
      "  2.86445917 1.22933699 1.36994844 2.36151693 2.44993622 1.95345576\n",
      "  2.6790501  2.27054765 1.88137254 2.1351354  1.47274696 1.99612802\n",
      "  2.01782516 1.79613307 1.19594605 1.32601954 2.11405381 0.85550792\n",
      "  2.82451502 2.26883869 2.2786867  2.79099331 1.97309905 1.76087007\n",
      "  3.099999   2.71676237 2.61607124 1.64794792 1.99206205 2.2967708\n",
      "  2.2232312  2.05585855 1.2310777  2.86906309 2.79664054 2.26534402\n",
      "  1.8591096  2.3078208  3.03831002 1.58509673 1.31280924 2.45753973\n",
      "  2.16683169 1.71681145 1.76133954 1.99209814 1.57350902 1.25339758\n",
      "  1.37507585 1.88515407 2.06561128 1.28516447 2.72622791 1.21115625\n",
      "  2.23193643 0.72382678 1.74894854 1.95723414 1.71670192 1.1310491\n",
      "  1.93254738 2.16830563 1.92656131 0.74276758 1.3326759  1.60889188\n",
      "  1.39547457 1.21199792 1.2383651  2.4388516  2.46418509 1.19004231\n",
      "  2.65036331 2.2610853  1.96207522 2.98103915 2.75842919 1.57596681\n",
      "  2.20780695 2.16890011 2.71825084 2.38528316 2.63964401 2.05557619\n",
      "  1.33279279 2.80705125 2.1689972  1.86362373 2.85633012 2.11440454\n",
      "  1.97496843 2.30589208 1.42612077 2.63066223 2.50314785 1.26279981\n",
      "  1.16978902 2.83558961 2.39979691 0.83159    2.85156359 2.27735755\n",
      "  0.89916389 2.63173287 1.42358449 1.67521795 2.01031227 2.09912798\n",
      "  2.03522108 1.68568807 2.39724931 1.35676253 2.44963183 3.00855674\n",
      "  1.97296948 1.8710183  2.11179214 2.07249858 2.17262288 1.746196\n",
      "  1.57756271 3.07410214 2.84940644 2.11750043 1.86949305 2.95535381\n",
      "  2.50345747 1.84675477 1.69757566 2.17911183 2.61543712 2.01777217\n",
      "  1.87067635 1.49542052 1.80251853 1.39712847 1.37642776 2.00967781\n",
      "  2.07025554 1.14624815 1.76974747 1.65189371 0.69881461 1.72141144\n",
      "  2.66403925 1.56881633 3.2053395  2.63028772 1.97852882 2.30999864\n",
      "  2.61424379 2.39469331 1.29206718 2.58012194 3.10376056 1.54914741\n",
      "  2.67840094 1.81463117 1.16585065 2.59847774 1.73326607 1.769087\n",
      "  2.50628089 1.92012844 2.4119687  2.31513113 2.05603201 1.73000696\n",
      "  1.21243115 1.64600293 2.65367146 2.41289606 2.54627943 3.05813837\n",
      "  1.53077641 1.91637306 1.73398803 1.3424518  2.51916008 1.21157962\n",
      "  1.26086906 2.25233848 1.64020453 2.49395413 2.55578389 1.52019755\n",
      "  1.91360887 1.80482046 2.75777735 1.54875305 0.88376176 2.72521898\n",
      "  1.33215927 1.47434507 1.79194825 1.3924818  1.29903264 2.14326847\n",
      "  1.0147921  2.07561188 2.04880438 2.71323291 2.259942   2.44075276\n",
      "  2.04578239 1.84836244 2.37678409 2.74580941 2.04996912 2.17417672\n",
      "  2.82054256 1.69830842 2.31674896 3.15479421 2.382062   1.69464386\n",
      "  1.97824938 2.29613776 2.37442698 2.19397954 1.78718157 1.6852529\n",
      "  2.80739299 1.67054011 2.9510333  2.16217163 1.58417441 0.9180113\n",
      "  1.30366781 1.6655549  1.18807243 1.04909494 2.26143295 2.16504452\n",
      "  2.27314974 2.05018499 1.82761474 2.05009143 1.97875049 1.09845614\n",
      "  1.59659343 1.91894464 1.44294971 2.84729694 1.43694172 1.36757439\n",
      "  2.81937367 1.33926157 1.15560428 1.18959261 1.84883588 1.39901136\n",
      "  0.9944819  0.87295722 2.48002209 2.31091574 2.05441462 2.13247626\n",
      "  2.70872046 1.61079174 2.13780084 0.9638162  0.34871006 3.28468877\n",
      "  1.20818987 1.20129693 2.79538662 2.73679525 2.15083062 2.31361078\n",
      "  1.31365317 1.70909628 1.81087324 1.56007599 1.67974184 1.8536574\n",
      "  1.68401374 1.64184323 1.56725089 2.18288837 2.35528183 1.54005824\n",
      "  0.99093731 1.2416077  1.97403023 0.90056207 0.64080807 2.54607492\n",
      "  2.16582246 1.72807395 1.13468046 1.75214389 2.23412873 2.03910847\n",
      "  2.93963059 0.76801379 2.31503943 1.45039426 2.50661547 1.95667798\n",
      "  2.44395926 1.62168607 2.0923073  2.05080862 1.9435045  1.28495488\n",
      "  0.91499576 2.42554181 1.13846859 1.09678682 1.87819066 1.1108433\n",
      "  1.94087351 1.02763305 2.60626244 2.36727936 2.54886382 2.38386012\n",
      "  2.87096332 1.7897369  1.24931641 2.37765893 1.80395845 2.87135435\n",
      "  1.41127907 0.99786048 1.52957086 1.4448713  1.27842809 2.19629973\n",
      "  1.55955434 1.97326868 1.14883964 0.55768945 0.83593331 2.56230054\n",
      "  1.98431302 1.83651867 1.62185397 2.6050252  2.50129066 1.36223467\n",
      "  2.35547392 1.81106723 2.08047671 1.63590783 2.19124228 2.4819905\n",
      "  2.00449911 1.44775621 1.72894539 0.86178413 2.32146511 2.42020242\n",
      "  2.27859839 1.05608172 2.15006147 2.19249145 1.57318921 0.79560307\n",
      "  1.49479557 2.69752275 2.50444469 0.94507737 2.76269749 1.52333471\n",
      "  2.33501863 1.95421705 1.86122714 2.84234695 2.18287684 1.26605327\n",
      "  2.63323143 2.09716637 1.74656825 2.21910276 2.01863036 2.06212405\n",
      "  1.78340338 2.6441979  2.07953091 3.17444521 2.42621291 2.52430799\n",
      "  1.38703217 1.65352234 2.99428047 1.90761953 2.28053614 2.8347272\n",
      "  2.26277361 2.71734022 2.43231957 2.14743863 2.56838121 1.30395793\n",
      "  2.01514302 2.24020774 1.71377288 2.21615356 1.5372762  2.40024515\n",
      "  2.07133906 1.81080492 1.84704975 1.00938863 1.50018467 2.52207436\n",
      "  2.59129705 1.61778213 2.14018973 3.33921125 2.38373427 2.09849975\n",
      "  2.36697191 2.06004259 1.26294711 1.026197   1.4089541  2.16192891\n",
      "  1.91831234 1.95171304 2.09439913 1.42639849 2.6258888  2.04057088\n",
      "  2.08872848 2.6395601  2.14961778 2.01785223 2.07540313 2.10179885\n",
      "  3.32453507 1.49764379 1.44982545 2.02179012 1.68361983 1.74395893\n",
      "  2.98134269 1.67856666 1.25684609 2.4341227  1.70917479 2.1963122\n",
      "  2.51913044 2.2842399  1.57177269 1.73675501 2.66957618 1.03470081\n",
      "  2.45561236 2.0592283  2.03635293 2.53556652 2.7671861  2.04302929\n",
      "  2.22534867 0.66425289 1.8889085  3.0085764  1.73838219 0.65919744\n",
      "  1.72032546 2.74399554 1.29862577 2.63841148 1.71273665 1.6269197\n",
      "  1.46959494 2.30077417 1.95704084 2.44737653 1.26728703 1.8552502\n",
      "  1.65692004 2.30404371 2.15346296 1.45875465 1.45468337 1.66751636\n",
      "  1.14778914 2.07942381 2.04814724 2.51213957 1.84667577 2.27698062\n",
      "  1.69235003 1.60556043 1.77681365 0.98725018 2.29499895 2.722919\n",
      "  2.04769888 1.30356846 1.85880709 1.79131901 1.01011782 1.63067254\n",
      "  2.33515466 3.24379241 1.01252394 2.1472246  2.09803104 2.15300665\n",
      "  1.67361395 3.28571644 2.60705371 2.63576419 2.41753876 1.81206242\n",
      "  2.77389382 2.3865329  1.68334046 1.73281587]]\n"
     ]
    }
   ],
   "source": [
    "# write your code here\n",
    "from scipy.stats.contingency import margins\n",
    "Cm, Rm = margins(m_100)\n",
    "Cn, Rn = margins(n_1000)\n",
    "print(Cm.T)\n",
    "print(Cn.T)"
   ]
  },
  {
   "cell_type": "markdown",
   "metadata": {},
   "source": [
    "For this simple example distribution you may have noticed that exact values for all of these quantities could have been computed directly without the need for sampling. However, as we will see in the following exercises there are many cases where sampling is still feasible but exact or direct computation is not."
   ]
  },
  {
   "cell_type": "markdown",
   "metadata": {},
   "source": [
    "## 2) Markov Chain Monte Carlo\n",
    "\n",
    "Markov Chain Monte Carlo methods are a set of algorithms with the purpose of generating samples from a distribution. Let's break down the meaning of the individual terms:\n",
    "  - **Monte Carlo** simply refers to the idea of approximating a complicated system with a statistical sample.\n",
    "  - A **Markov chain** refers to a stochastic process involving a number of probabilisitic state transitions from one state to another. The **Markov** property states that any given state transition probability is determined by only the current state not any of the preceding states.\n",
    " \n",
    "Together, Markov Chain Monte Carlo methods are a set of methods that utilise a Markov chain to generate samples from some desired distribution. The Markov chain transition probabilites are set up in such a way that the sequence of sampled states of the chain will eventually converge to this desired distribution. Note that the initial states of the chain may be sampled from distributions far from the desired distribution which is why they are typically discarded."
   ]
  },
  {
   "cell_type": "markdown",
   "metadata": {},
   "source": [
    "### 2.1) Defining a Gaussian probability density function\n",
    "We will first define a simple distribution that we intend to generate samples from. In the cell below, create a function `gaussian_pdf` that has parameters mean ($\\mu$) and standard deviation ($\\sigma$) and returns a function for the Gaussian probability density function corresponding to those parameters: $$\\Large p(x) = \\frac{1}{\\sqrt{2\\pi\\sigma^2}}e^{-\\frac{1}{2}(\\frac{x-\\mu}{\\sigma})^2}$$\n",
    "\n",
    "You are free to use the `norm` function from [`scipy.stats.norm`](https://docs.scipy.org/doc/scipy/reference/generated/scipy.stats.norm.html) or define this function directly from the equation using `numpy`. Note that `gaussian_pdf` should take just two parameters (`mu` and `sigma`) and should **return a function** $p(x)$ that takes a single parameter.\n",
    "\n",
    "For this implementation it may be useful to use a `lambda` function which is a very useful `Python` feature that allows the creation of anonymous functions. If this concept is unfamiliar to you then please see this python tutorial [here](https://www.w3schools.com/python/python_lambda.asp)."
   ]
  },
  {
   "cell_type": "code",
   "execution_count": 0,
   "metadata": {},
   "outputs": [],
   "source": [
    "# write your code here\n"
   ]
  },
  {
   "cell_type": "markdown",
   "metadata": {},
   "source": [
    "The code below uses this function to create and plot a Gaussian pdf with `mu=0.0` and `sigma=1.0`."
   ]
  },
  {
   "cell_type": "code",
   "execution_count": 0,
   "metadata": {},
   "outputs": [],
   "source": [
    "true_mean = 0.0\n",
    "true_variance = 1.0\n",
    "\n",
    "z = np.linspace(-5.0, 5.0, 500)\n",
    "true_pdf = gaussian_pdf(mu=true_mean, sigma=np.sqrt(true_variance))\n",
    "\n",
    "plt.figure(figsize=(10,5))\n",
    "plt.plot(z, true_pdf(z))\n",
    "plt.xlabel('$x$')\n",
    "plt.ylabel('$p(x)$')\n",
    "plt.show()"
   ]
  },
  {
   "cell_type": "markdown",
   "metadata": {},
   "source": [
    "### 2.2) Metropolis Algorithm"
   ]
  },
  {
   "cell_type": "markdown",
   "metadata": {},
   "source": [
    "The Metropolis Algorithm is one of the simplest instances of a Markov Chain Monte Carlo method. The goal of the algorithm is to generate samples from some distribution $p(z)$ which in our case is a univariate Gaussian distribution. Let us assume that we do not have an easy way to sample from this distribution (in reality this distribution is very easy to sample from) and that we can only evaluate the unnormalised density, $\\tilde{p}(z)$, where\n",
    "$$\\large p(z) = \\frac{\\tilde{p}(z)}{Z_p}$$ and $Z_p$ may be unknown or computationally intractable. \n",
    "\n",
    "To generate samples, $z_1, z_2, ... z_N$ , from $p(z)$ using an MCMC method such as the Metropolis algorithm we must first define a proposal distribution, $q(z_{t+1}^\\star \\vert z_{t})$, that uses the current state in the chain, $z_t$, to propose new states, $z_{t+1}^\\star$. The only requirements for this proposal distribution are that it can easily be sampled directly and that it is symmetric (although this method can be extended for non-symmetric proposal distributions). For simplicity, in this case we will choose to use a Gaussian proposal distribution with a mean of $z_t$ and a fixed variance $\\sigma_\\star^2$: \n",
    "$$\\large z_{t+1}^\\star \\sim \\mathcal{N}(z_t, \\sigma_\\star^2)$$\n",
    "\n",
    "[comment]: <> (At this point, to clarify, we have an unnormalised density corresponding to the distribution that we wish to be able to sample from and proposal distribution that we can easily sample from. Both distributions are Gaussian to keep things simple for this exercise but remember that this algorithm can be applied to any density.)\n",
    "\n",
    "An initial value for the first state, $z_1$, is chosen at the beginning and is used to propose a value for the next state. The newly proposed value is either accepted as the next state in the chain, $z_2 = z_2^\\star$, or it is rejected, $z_2 = z_1$. Acceptance occurs probabilistically with an acceptance probability of:\n",
    "$$\\large A(z_{t+1}^\\star, z_t) = \\text{min}\\Big(1, \\frac{\\tilde{p}(z_{t+1}^\\star)}{\\tilde{p}(z_t)}\\Big)$$.\n",
    "\n",
    "Note that when $\\tilde{p}(z_{t+1}^\\star)\\geq\\tilde{p}(z_t)$ the new sample is always accepted. It turns out that if we take enough samples in this way then the distribution of $z_t$ converges to $p(z)$."
   ]
  },
  {
   "cell_type": "markdown",
   "metadata": {},
   "source": [
    "Implement the Metropolis algorithm described above and use it to generate samples from `gaussian_pdf` with `mu=0.0` and `sigma=1.0`. Set your initial sample value $z_1=0$ and the proposal distribution variance $\\sigma_\\star^2=0.25$. (hint sampling from the proposal distribution can be achieved using [np.random.normal](https://numpy.org/doc/stable/reference/random/generated/numpy.random.normal.html))\n",
    "\n",
    "The plotting functions `plot_samples` and `plot_samples_histogram` have been provided to help with visualising your implementation:\n",
    "- Both functions require the `true_pdf` function and a list of generated samples `samples_list` as arguments.\n",
    "- `plot_samples` generates a single plot per sample so this should be used with a small number of samples ($N\\leq20$).\n",
    "- `plot_samples_histogram` creates a single histogram plot and is a better visualisation for a larger number of samples ($N\\geq5000$)"
   ]
  },
  {
   "cell_type": "code",
   "execution_count": 0,
   "metadata": {},
   "outputs": [],
   "source": [
    "def plot_samples(true_pdf, samples_list):\n",
    "    assert len(samples_list) <= 20, \"Number of samples too high! Please call this function with a maximum of 20 samples.\"\n",
    "    for i in range(1, len(samples_list)):\n",
    "        plt.figure(figsize=(10,5))\n",
    "        plt.plot(z, true_pdf(z))\n",
    "        for sample in samples_list[:i-1]:\n",
    "            plt.axvline(sample, c='green')\n",
    "        plt.axvline(samples_list[i-1], c='red')\n",
    "        plt.show()\n",
    "\n",
    "def plot_samples_histogram(true_pdf, samples_list):\n",
    "    plt.figure(figsize=(10,5))\n",
    "    plt.plot(z, true_pdf(z))\n",
    "    plt.hist(samples_list, density=True, histtype='step', bins=50)\n",
    "    plt.show()"
   ]
  },
  {
   "cell_type": "code",
   "execution_count": 0,
   "metadata": {
    "scrolled": false
   },
   "outputs": [],
   "source": [
    "# write your code here\n"
   ]
  },
  {
   "cell_type": "markdown",
   "metadata": {},
   "source": [
    "### Exercises:\n",
    "1. Estimate the mean and variance of the true distribution from your samples. How does the accuracy of these estimates change if you generate more samples?\n",
    "2. The current implementation uses a normalised Gaussian pdf. Think about what would happen if the density function was unnormalised. Change `gaussian_pdf` to multiply all of its outputs by some constant value and check that you were correct.\n",
    "3. Go back to Section 2.1 and experiment with different density functions:\n",
    "    - Create a function `gaussian_mixture_pdf` that returns the density function for a mixture of two Gaussians with parameters: $\\mu_1 = -2, \\sigma_1=0.5, \\mu_2=2, \\sigma_2=0.5$. This can be achieved simply by creating the two density functions separately using `gaussian_pdf` and summing the result. Set this density to `true_pdf` and run the rest of your code again to generate and plot the distribution of samples from the Gaussian mixture. What do you notice about the distribution of your samples?\n",
    "    - (Optional) Implement the density function for a Uniform distribution, `uniform_pdf`, over the range $(-2, 2)$ and run the code again. (hint: you can use [scipy.stats.uniform](https://docs.scipy.org/doc/scipy/reference/generated/scipy.stats.uniform.html) or implement it yourself using numpy)."
   ]
  },
  {
   "cell_type": "markdown",
   "metadata": {},
   "source": [
    "# write your code here\n"
   ]
  },
  {
   "cell_type": "markdown",
   "metadata": {},
   "source": [
    "## 3) Bayesian Linear Regression with PyMC3\n",
    "\n",
    "You should be familiar with the concept of linear regression week 2 lectures and lab and its Bayesian formulation week 3 lectures and Bishop 3.3. In this section we will recap the key ideas and explore how such a model can be defined and fitted to some example data in practice."
   ]
  },
  {
   "cell_type": "markdown",
   "metadata": {},
   "source": [
    "### Introducing PyMC3\n",
    "[PyMC3](https://docs.pymc.io/) is a library that provides a lot of useful functionality for working with probabilistic models in Python. Importantly, it allows for Bayesian networks to be programmatically defined and it provides efficient implementations of a number of different MCMC methods including the Metropolis algorithm.\n",
    "\n",
    "If you haven't done so already then please make sure you have installed `pymc3` before proceeding."
   ]
  },
  {
   "cell_type": "code",
   "execution_count": 0,
   "metadata": {},
   "outputs": [],
   "source": [
    "import pymc3 as pm"
   ]
  },
  {
   "cell_type": "markdown",
   "metadata": {},
   "source": [
    "### 3.1) Generating some example data for our linear model\n",
    "We will first generate some example data $\\mathcal{D}=\\{(x_i, y_i)\\}_N$ where $$ y_i = w_0 + w_1x_i + \\epsilon$$ with $w_0=6$, $w_1=2$, $\\epsilon \\sim \\mathcal{N}(\\mu=0, \\sigma=1)$."
   ]
  },
  {
   "cell_type": "code",
   "execution_count": 0,
   "metadata": {},
   "outputs": [],
   "source": [
    "n = 50\n",
    "true_w0 = 6\n",
    "true_w1 = 2\n",
    "true_sigma = 1\n",
    "\n",
    "x = np.linspace(0, 1, n)\n",
    "y = true_w0 + true_w1*x + np.random.normal(scale=true_sigma, size=n)"
   ]
  },
  {
   "cell_type": "markdown",
   "metadata": {},
   "source": [
    "Make a scatter plot of the data points and plot the line corresponding to the mean of $y$ using the known parameters."
   ]
  },
  {
   "cell_type": "code",
   "execution_count": 0,
   "metadata": {},
   "outputs": [],
   "source": [
    "# write your code here\n"
   ]
  },
  {
   "cell_type": "markdown",
   "metadata": {},
   "source": [
    "### 3.2) Bayesian Linear Regression model in PyMC3\n",
    "\n",
    "Without knowledge of the true model parameters, the goal of Bayesian linear regression is to obtain a distribution (posterior) over the model parameters from the data, $P(w_0,w_1,\\sigma \\vert \\mathcal{D})$. First we need to define a prior over the three parameters:\n",
    "- $p(w_0) = \\mathcal{N}(0, 20)$\n",
    "- $p(w_1) = \\mathcal{N}(0, 20)$\n",
    "- $p(\\sigma) = U(0, 20)$\n",
    "\n",
    "Below is the code to define this model in `pymc3`. Note that this code performs MCMC using a No U-Turn Sampler (NUTS) which operates using the same principles as the Metropolis algorithm but is much more efficient."
   ]
  },
  {
   "cell_type": "code",
   "execution_count": 0,
   "metadata": {
    "scrolled": false
   },
   "outputs": [],
   "source": [
    "num_samples = 1000\n",
    "with pm.Model() as model:\n",
    "    # Defining our priors\n",
    "    w0 = pm.Normal('w0', mu=0, sd=20)\n",
    "    w1 = pm.Normal('w1', mu=0, sd=20)\n",
    "    sigma = pm.Uniform('sigma', lower=0, upper=20)\n",
    "\n",
    "    y_est = w0 + w1*x # auxiliary variables\n",
    "\n",
    "    likelihood = pm.Normal('y', mu=y_est, sd=sigma, observed=y)\n",
    "    \n",
    "    # inference\n",
    "    sampler = pm.NUTS() # Hamiltonian MCMC with No U-Turn Sampler \n",
    "    # or alternatively\n",
    "    # sampler = pm.Metropolis()\n",
    "    \n",
    "    trace = pm.sample(num_samples, sampler, progressbar=True, cores=1, chains=2)\n",
    "    "
   ]
  },
  {
   "cell_type": "markdown",
   "metadata": {},
   "source": [
    "The `trace` variable now contains the sampled values from the posterior distribution for each of the model parameters. Each variable can be accessed using dictionary syntax `w1_trace = trace['w1']`. \n",
    "\n",
    "Make the following plots:\n",
    "- Histogram of the samples of $p(w_0 \\vert \\mathcal{D})$, $p(w_1 \\vert \\mathcal{D})$ and $p(\\sigma \\vert \\mathcal{D})$\n",
    "- A two-dimensional histogram of $p(w_0, w_1 \\vert \\mathcal{D})$ (see [hist2d](https://matplotlib.org/3.1.1/api/_as_gen/matplotlib.pyplot.hist2d.html)). What is the relationship between these two parameters and how do you interpret this relationship in terms of the model?\n",
    "- Take a single sample from the trace and plot the line corresponding to those parameters on top of a scatter plot of the data. Use the [`errorbar`](https://matplotlib.org/3.1.1/api/_as_gen/matplotlib.pyplot.errorbar.html) function to show the variance, $\\sigma$, of the noise term."
   ]
  },
  {
   "cell_type": "code",
   "execution_count": 0,
   "metadata": {
    "scrolled": false
   },
   "outputs": [],
   "source": [
    "# write your code here\n"
   ]
  },
  {
   "cell_type": "markdown",
   "metadata": {},
   "source": [
    "### Exercises:\n",
    "1. Experiment with changing the prior distributions within the model: \n",
    "    - How does changing the prior distributions' mean or variance affect the posterior belief?\n",
    "    - What happens if the uniform distribution prior over $\\sigma$ is changed to exclude the true value? (e.g. $p(\\sigma) = U(5, 20)$)\n",
    "    \n",
    "2. Introduce a new parameter, $w_2$, to the data generation code such that\n",
    "    $$ y_i = w_0 + w_1x_i + w_2x_i^2+ \\epsilon$$\n",
    "   and adjust the model to perform inference for this parameter from the data.\n",
    "\n",
    "## Wrap up\n",
    "\n",
    "This lab covered a number of topics so let's recap:\n",
    "- First, we looked at a simple example of a graphical model and showed how to go about efficiently generating samples from a distribution that factorises over the graph using ancestral sampling.\n",
    "- We demonstrated the power of sampling by using samples to estimate quantities relating to the distribution.\n",
    "- We then looked at using the concepts of MCMC algorithms to generate samples from probability densities that are otherwise difficult to sample from and implemented the Metropolis algorithm.\n",
    "- Finally, we looked at the PyMC3 python library and how its efficient implementations of MCMC algorithms can be utilised within a Bayesian Linear Regression model.\n",
    "\n",
    "### References\n",
    "\n",
    "- COMS30035 Machine Learning lecture notes 3.\n",
    "- Bishop Pattern Recognition and Machine Learning: Chapter 3.3 for Bayesian linear regression, chapter 8.1 for graphical models and chapter 11.2 for MCMC."
   ]
  }
 ],
 "metadata": {
  "kernelspec": {
   "display_name": "Python 3 (ipykernel)",
   "language": "python",
   "name": "python3"
  },
  "language_info": {
   "codemirror_mode": {
    "name": "ipython",
    "version": 3
   },
   "file_extension": ".py",
   "mimetype": "text/x-python",
   "name": "python",
   "nbconvert_exporter": "python",
   "pygments_lexer": "ipython3",
   "version": "3.9.7"
  }
 },
 "nbformat": 4,
 "nbformat_minor": 2
}
